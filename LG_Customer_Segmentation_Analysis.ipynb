{
 "cells": [
  {
   "cell_type": "markdown",
   "id": "e3086753",
   "metadata": {},
   "source": [
    "# LG Customer Segmentation Analysis\n",
    "This notebook performs customer segmentation using K-Means clustering."
   ]
  },
  {
   "cell_type": "code",
   "execution_count": null,
   "id": "27980baf",
   "metadata": {},
   "outputs": [],
   "source": [
    "import pandas as pd\n",
    "\n",
    "df = pd.read_csv(\"LG_Customer_Segmentation_Dataset.csv\")\n",
    "df.head()"
   ]
  },
  {
   "cell_type": "markdown",
   "id": "06e5aa75",
   "metadata": {},
   "source": [
    "## Data Preprocessing"
   ]
  },
  {
   "cell_type": "code",
   "execution_count": null,
   "id": "0ad4798b",
   "metadata": {},
   "outputs": [],
   "source": [
    "from sklearn.preprocessing import StandardScaler, LabelEncoder\n",
    "\n",
    "df_preprocessed = df.drop(\"Customer_ID\", axis=1).copy()\n",
    "\n",
    "label_encoders = {}\n",
    "for column in [\"Gender\", \"Income_Level\", \"Region\"]:\n",
    "    le = LabelEncoder()\n",
    "    df_preprocessed[column] = le.fit_transform(df_preprocessed[column])\n",
    "    label_encoders[column] = le\n",
    "\n",
    "scaler = StandardScaler()\n",
    "df_scaled = pd.DataFrame(scaler.fit_transform(df_preprocessed), columns=df_preprocessed.columns)\n",
    "df_scaled.head()"
   ]
  },
  {
   "cell_type": "markdown",
   "id": "920c16b0",
   "metadata": {},
   "source": [
    "## Determine Optimal Number of Clusters with Elbow Method"
   ]
  },
  {
   "cell_type": "code",
   "execution_count": null,
   "id": "e28648ea",
   "metadata": {},
   "outputs": [],
   "source": [
    "import matplotlib.pyplot as plt\n",
    "from sklearn.cluster import KMeans\n",
    "\n",
    "inertia = []\n",
    "for k in range(1, 11):\n",
    "    kmeans = KMeans(n_clusters=k, random_state=42)\n",
    "    kmeans.fit(df_scaled)\n",
    "    inertia.append(kmeans.inertia_)\n",
    "\n",
    "plt.figure(figsize=(8, 5))\n",
    "plt.plot(range(1, 11), inertia, marker='o')\n",
    "plt.title(\"Elbow Method for Optimal k\")\n",
    "plt.xlabel(\"Number of clusters\")\n",
    "plt.ylabel(\"Inertia\")\n",
    "plt.grid(True)\n",
    "plt.show()"
   ]
  },
  {
   "cell_type": "markdown",
   "id": "90a6ccb1",
   "metadata": {},
   "source": [
    "## Apply K-Means Clustering"
   ]
  },
  {
   "cell_type": "code",
   "execution_count": null,
   "id": "f20d2ece",
   "metadata": {},
   "outputs": [],
   "source": [
    "kmeans = KMeans(n_clusters=3, random_state=42)\n",
    "df_preprocessed['Cluster'] = kmeans.fit_predict(df_scaled)\n",
    "df_clustered = pd.concat([df[['Customer_ID']], df_preprocessed], axis=1)\n",
    "df_clustered.head()"
   ]
  },
  {
   "cell_type": "markdown",
   "id": "ce0bc25b",
   "metadata": {},
   "source": [
    "## Visualize Clusters Using PCA"
   ]
  },
  {
   "cell_type": "code",
   "execution_count": null,
   "id": "5e54d613",
   "metadata": {},
   "outputs": [],
   "source": [
    "from sklearn.decomposition import PCA\n",
    "import seaborn as sns\n",
    "\n",
    "pca = PCA(n_components=2)\n",
    "pca_components = pca.fit_transform(df_scaled)\n",
    "df_visual = pd.DataFrame(pca_components, columns=[\"PCA1\", \"PCA2\"])\n",
    "df_visual[\"Cluster\"] = df_preprocessed[\"Cluster\"]\n",
    "\n",
    "plt.figure(figsize=(8, 6))\n",
    "sns.scatterplot(data=df_visual, x=\"PCA1\", y=\"PCA2\", hue=\"Cluster\", palette=\"Set1\", s=100)\n",
    "plt.title(\"Customer Segments Visualized Using PCA\")\n",
    "plt.xlabel(\"Principal Component 1\")\n",
    "plt.ylabel(\"Principal Component 2\")\n",
    "plt.legend(title=\"Cluster\")\n",
    "plt.grid(True)\n",
    "plt.show()"
   ]
  },
  {
   "cell_type": "markdown",
   "id": "d492324a",
   "metadata": {},
   "source": [
    "## Cluster Profiles"
   ]
  },
  {
   "cell_type": "code",
   "execution_count": null,
   "id": "3c7892ca",
   "metadata": {},
   "outputs": [],
   "source": [
    "df_preprocessed.groupby(\"Cluster\").mean().round(2)"
   ]
  }
 ],
 "metadata": {},
 "nbformat": 4,
 "nbformat_minor": 5
}